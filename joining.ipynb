{
 "cells": [
  {
   "cell_type": "markdown",
   "metadata": {},
   "source": [
    "<h1>Princeton Room Draw Statistics</h1>\n",
    "A selection of the code used in writing The Daily Princetonian's 2022 <a href =\"https://www.dailyprincetonian.com/article/2022/04/room-draw-data-princeton-housing-construction-hres-residential-college\">room draw piece</a>. Not all code and outputs are included for student privacy reasons"
   ]
  },
  {
   "cell_type": "code",
   "execution_count": 1,
   "metadata": {},
   "outputs": [],
   "source": [
    "import pandas as pd\n",
    "import seaborn as sns\n",
    "import numpy as np\n",
    "import os as os"
   ]
  },
  {
   "cell_type": "markdown",
   "metadata": {},
   "source": [
    "<h3>Convert PDFs to csvs</h3>"
   ]
  },
  {
   "cell_type": "code",
   "execution_count": null,
   "metadata": {},
   "outputs": [],
   "source": [
    "import tabula\n",
    "pdfs = os.listdir(\"draw_times\")\n",
    " \n",
    "for pdf in pdfs:\n",
    "     output = \"draw_times_csv/\" + pdf + \".csv\"\n",
    "     tabula.convert_into(\"draw_times/\" + pdf, output, output_format=\"csv\", pages='all')"
   ]
  },
  {
   "cell_type": "markdown",
   "metadata": {},
   "source": [
    "<h3>Read in room information and merge with how desirable it was in last year's draw</h3>"
   ]
  },
  {
   "cell_type": "code",
   "execution_count": 4,
   "metadata": {},
   "outputs": [
    {
     "data": {
      "text/html": [
       "<div>\n",
       "<style scoped>\n",
       "    .dataframe tbody tr th:only-of-type {\n",
       "        vertical-align: middle;\n",
       "    }\n",
       "\n",
       "    .dataframe tbody tr th {\n",
       "        vertical-align: top;\n",
       "    }\n",
       "\n",
       "    .dataframe thead th {\n",
       "        text-align: right;\n",
       "    }\n",
       "</style>\n",
       "<table border=\"1\" class=\"dataframe\">\n",
       "  <thead>\n",
       "    <tr style=\"text-align: right;\">\n",
       "      <th></th>\n",
       "      <th>room_id</th>\n",
       "      <th>year</th>\n",
       "      <th>draw_time</th>\n",
       "      <th>buiding</th>\n",
       "      <th>room_no</th>\n",
       "      <th>occupancy</th>\n",
       "      <th>sq_footage</th>\n",
       "      <th>res_college</th>\n",
       "      <th>taken</th>\n",
       "    </tr>\n",
       "  </thead>\n",
       "  <tbody>\n",
       "    <tr>\n",
       "      <th>0</th>\n",
       "      <td>1441</td>\n",
       "      <td>2019</td>\n",
       "      <td>1</td>\n",
       "      <td>SPELMAN</td>\n",
       "      <td>54</td>\n",
       "      <td>4.0</td>\n",
       "      <td>930.0</td>\n",
       "      <td>Upperclass</td>\n",
       "      <td>f</td>\n",
       "    </tr>\n",
       "    <tr>\n",
       "      <th>1</th>\n",
       "      <td>1441</td>\n",
       "      <td>2017</td>\n",
       "      <td>17</td>\n",
       "      <td>SPELMAN</td>\n",
       "      <td>54</td>\n",
       "      <td>4.0</td>\n",
       "      <td>930.0</td>\n",
       "      <td>Upperclass</td>\n",
       "      <td>f</td>\n",
       "    </tr>\n",
       "    <tr>\n",
       "      <th>2</th>\n",
       "      <td>1422</td>\n",
       "      <td>2019</td>\n",
       "      <td>2</td>\n",
       "      <td>SPELMAN</td>\n",
       "      <td>23</td>\n",
       "      <td>4.0</td>\n",
       "      <td>930.0</td>\n",
       "      <td>Upperclass</td>\n",
       "      <td>f</td>\n",
       "    </tr>\n",
       "    <tr>\n",
       "      <th>3</th>\n",
       "      <td>1422</td>\n",
       "      <td>2017</td>\n",
       "      <td>16</td>\n",
       "      <td>SPELMAN</td>\n",
       "      <td>23</td>\n",
       "      <td>4.0</td>\n",
       "      <td>930.0</td>\n",
       "      <td>Upperclass</td>\n",
       "      <td>f</td>\n",
       "    </tr>\n",
       "    <tr>\n",
       "      <th>4</th>\n",
       "      <td>1463</td>\n",
       "      <td>2019</td>\n",
       "      <td>3</td>\n",
       "      <td>SPELMAN</td>\n",
       "      <td>86</td>\n",
       "      <td>4.0</td>\n",
       "      <td>930.0</td>\n",
       "      <td>Upperclass</td>\n",
       "      <td>f</td>\n",
       "    </tr>\n",
       "    <tr>\n",
       "      <th>...</th>\n",
       "      <td>...</td>\n",
       "      <td>...</td>\n",
       "      <td>...</td>\n",
       "      <td>...</td>\n",
       "      <td>...</td>\n",
       "      <td>...</td>\n",
       "      <td>...</td>\n",
       "      <td>...</td>\n",
       "      <td>...</td>\n",
       "    </tr>\n",
       "    <tr>\n",
       "      <th>3156</th>\n",
       "      <td>1015</td>\n",
       "      <td>2017</td>\n",
       "      <td>1585</td>\n",
       "      <td>LAUGHLIN</td>\n",
       "      <td>625</td>\n",
       "      <td>3.0</td>\n",
       "      <td>395.0</td>\n",
       "      <td>Upperclass</td>\n",
       "      <td>f</td>\n",
       "    </tr>\n",
       "    <tr>\n",
       "      <th>3157</th>\n",
       "      <td>1022</td>\n",
       "      <td>2017</td>\n",
       "      <td>1586</td>\n",
       "      <td>LITTLE</td>\n",
       "      <td>93</td>\n",
       "      <td>4.0</td>\n",
       "      <td>508.0</td>\n",
       "      <td>Upperclass</td>\n",
       "      <td>f</td>\n",
       "    </tr>\n",
       "    <tr>\n",
       "      <th>3158</th>\n",
       "      <td>1019</td>\n",
       "      <td>2017</td>\n",
       "      <td>1587</td>\n",
       "      <td>LAUGHLIN</td>\n",
       "      <td>632</td>\n",
       "      <td>4.0</td>\n",
       "      <td>621.0</td>\n",
       "      <td>Upperclass</td>\n",
       "      <td>f</td>\n",
       "    </tr>\n",
       "    <tr>\n",
       "      <th>3159</th>\n",
       "      <td>998</td>\n",
       "      <td>2017</td>\n",
       "      <td>1588</td>\n",
       "      <td>LAUGHLIN</td>\n",
       "      <td>521</td>\n",
       "      <td>3.0</td>\n",
       "      <td>440.0</td>\n",
       "      <td>Upperclass</td>\n",
       "      <td>f</td>\n",
       "    </tr>\n",
       "    <tr>\n",
       "      <th>3160</th>\n",
       "      <td>995</td>\n",
       "      <td>2017</td>\n",
       "      <td>1589</td>\n",
       "      <td>LAUGHLIN</td>\n",
       "      <td>511</td>\n",
       "      <td>3.0</td>\n",
       "      <td>436.0</td>\n",
       "      <td>Upperclass</td>\n",
       "      <td>f</td>\n",
       "    </tr>\n",
       "  </tbody>\n",
       "</table>\n",
       "<p>3161 rows × 9 columns</p>\n",
       "</div>"
      ],
      "text/plain": [
       "      room_id  year  draw_time   buiding room_no  occupancy  sq_footage  \\\n",
       "0        1441  2019          1   SPELMAN      54        4.0       930.0   \n",
       "1        1441  2017         17   SPELMAN      54        4.0       930.0   \n",
       "2        1422  2019          2   SPELMAN      23        4.0       930.0   \n",
       "3        1422  2017         16   SPELMAN      23        4.0       930.0   \n",
       "4        1463  2019          3   SPELMAN      86        4.0       930.0   \n",
       "...       ...   ...        ...       ...     ...        ...         ...   \n",
       "3156     1015  2017       1585  LAUGHLIN     625        3.0       395.0   \n",
       "3157     1022  2017       1586    LITTLE      93        4.0       508.0   \n",
       "3158     1019  2017       1587  LAUGHLIN     632        4.0       621.0   \n",
       "3159      998  2017       1588  LAUGHLIN     521        3.0       440.0   \n",
       "3160      995  2017       1589  LAUGHLIN     511        3.0       436.0   \n",
       "\n",
       "     res_college taken  \n",
       "0     Upperclass     f  \n",
       "1     Upperclass     f  \n",
       "2     Upperclass     f  \n",
       "3     Upperclass     f  \n",
       "4     Upperclass     f  \n",
       "...          ...   ...  \n",
       "3156  Upperclass     f  \n",
       "3157  Upperclass     f  \n",
       "3158  Upperclass     f  \n",
       "3159  Upperclass     f  \n",
       "3160  Upperclass     f  \n",
       "\n",
       "[3161 rows x 9 columns]"
      ]
     },
     "execution_count": 4,
     "metadata": {},
     "output_type": "execute_result"
    }
   ],
   "source": [
    "times = pd.read_csv(\"draw_time.csv\")\n",
    "info = pd.read_csv(\"room_info.csv\")\n",
    "df = pd.merge(times, info, on='room_id')\n",
    "df\n"
   ]
  },
  {
   "cell_type": "markdown",
   "metadata": {},
   "source": [
    "<h3>Join information across all draws</h3>"
   ]
  },
  {
   "cell_type": "code",
   "execution_count": null,
   "metadata": {},
   "outputs": [],
   "source": [
    "\n",
    "butler = pd.read_csv(\"draw_times_csv/ButlerTimeOrder2022.pdf.csv\",header = None)\n",
    "butler['draw'] = \"butler\"\n",
    "\n",
    "nce = pd.read_csv(\"draw_times_csv/NCEDrawOrder2022.pdf.csv\",header = None)\n",
    "nce['draw'] = \"nce\"\n",
    "\n",
    "forbes = pd.read_csv(\"draw_times_csv/ForbesDrawOrder2022.pdf.csv\",header = None)\n",
    "forbes['draw'] = \"forbes\"\n",
    "\n",
    "rocky = pd.read_csv(\"draw_times_csv/RockyDrawOrder2022.pdf.csv\",header = None)\n",
    "rocky['draw'] = \"rocky\"\n",
    "\n",
    "whitman = pd.read_csv(\"draw_times_csv/WhitmanDrawOrder2022.pdf.csv\",header = None)\n",
    "whitman['draw'] = \"whitman\"\n",
    "\n",
    "upperclass = pd.read_csv(\"draw_times_csv/UpperclassDrawOrder2022.pdf.csv\",header = None)\n",
    "upperclass['draw'] = \"upperclass\"\n",
    "\n",
    "mathey = pd.read_csv(\"draw_times_csv/MatheyDrawOrder2022.pdf.csv\",header = None)\n",
    "mathey['draw'] = \"mathey\"\n",
    "\n",
    "ind = pd.read_csv(\"draw_times_csv/IndependentTimeOrder2022.pdf.csv\",header = None)\n",
    "ind['draw'] = \"ind\"\n",
    "\n",
    "ncw =  pd.read_csv(\"draw_times_csv/NCWDrawOrder2022.pdf.csv\",header = None)\n",
    "ncw['draw'] = \"ncw\"\n",
    "\n",
    "spelman = pd.read_csv(\"draw_times_csv/SpelmanTimeOrder2022.pdf.csv\",header = None)\n",
    "spelman['draw'] = \"spellman\"\n",
    "\n",
    "dfs = [butler, nce, forbes, rocky, whitman, upperclass, mathey, ind, ncw, spelman]\n",
    "\n",
    "df = pd.concat(dfs)\n",
    "\n",
    "df.columns = ['puid', 'year', 'last_name', 'first_name', 'time', 'draw']\n"
   ]
  },
  {
   "cell_type": "markdown",
   "metadata": {},
   "source": [
    "<h3>Find class breakdown in each draw</h3>"
   ]
  },
  {
   "cell_type": "code",
   "execution_count": null,
   "metadata": {},
   "outputs": [],
   "source": [
    "\n",
    "breakdown = df[['year', 'draw']]\n",
    "breakdown['count'] = 1\n",
    "breakdown.groupby(by = ['year', 'draw']).sum().reset_index()"
   ]
  },
  {
   "cell_type": "markdown",
   "metadata": {},
   "source": [
    "<h3>Find capacity of each dorm</h3>"
   ]
  },
  {
   "cell_type": "code",
   "execution_count": 8,
   "metadata": {},
   "outputs": [
    {
     "data": {
      "text/plain": [
       "(1968, 8)"
      ]
     },
     "execution_count": 8,
     "metadata": {},
     "output_type": "execute_result"
    }
   ],
   "source": [
    "rooms = pd.read_csv(\"AvailableRoomsList2022.csv\")\n",
    "rooms['capacity'] = 0\n",
    "rooms.loc[rooms.unit_type == 'SINGLE', 'capacity'] = 1\n",
    "rooms.loc[rooms.unit_type == 'DA', 'capacity'] = 1\n",
    "rooms.loc[rooms.unit_type == 'DOUBLE', 'capacity'] = 2\n",
    "rooms.loc[rooms.unit_type == 'TRIPLE', 'capacity'] = 3\n",
    "rooms.loc[rooms.unit_type == 'QUAD', 'capacity'] = 4\n",
    "rooms.loc[rooms.unit_type == 'QUINT', 'capacity'] = 5\n",
    "rooms.loc[rooms.unit_type == '6PERSON', 'capacity'] = 6\n",
    "rooms.to_csv(\"rooms_with_cap.csv\", index=False)\n",
    "\n",
    "rooms.shape"
   ]
  },
  {
   "cell_type": "code",
   "execution_count": 30,
   "metadata": {},
   "outputs": [
    {
     "data": {
      "text/html": [
       "<div>\n",
       "<style scoped>\n",
       "    .dataframe tbody tr th:only-of-type {\n",
       "        vertical-align: middle;\n",
       "    }\n",
       "\n",
       "    .dataframe tbody tr th {\n",
       "        vertical-align: top;\n",
       "    }\n",
       "\n",
       "    .dataframe thead th {\n",
       "        text-align: right;\n",
       "    }\n",
       "</style>\n",
       "<table border=\"1\" class=\"dataframe\">\n",
       "  <thead>\n",
       "    <tr style=\"text-align: right;\">\n",
       "      <th></th>\n",
       "      <th>affiliation</th>\n",
       "      <th>capacity</th>\n",
       "    </tr>\n",
       "  </thead>\n",
       "  <tbody>\n",
       "    <tr>\n",
       "      <th>0</th>\n",
       "      <td>Butler College</td>\n",
       "      <td>266</td>\n",
       "    </tr>\n",
       "    <tr>\n",
       "      <th>1</th>\n",
       "      <td>Forbes College</td>\n",
       "      <td>213</td>\n",
       "    </tr>\n",
       "    <tr>\n",
       "      <th>2</th>\n",
       "      <td>Mathey College</td>\n",
       "      <td>271</td>\n",
       "    </tr>\n",
       "    <tr>\n",
       "      <th>3</th>\n",
       "      <td>New College East</td>\n",
       "      <td>267</td>\n",
       "    </tr>\n",
       "    <tr>\n",
       "      <th>4</th>\n",
       "      <td>New College West</td>\n",
       "      <td>300</td>\n",
       "    </tr>\n",
       "    <tr>\n",
       "      <th>5</th>\n",
       "      <td>Rockefeller College</td>\n",
       "      <td>237</td>\n",
       "    </tr>\n",
       "    <tr>\n",
       "      <th>6</th>\n",
       "      <td>Upperclass</td>\n",
       "      <td>1830</td>\n",
       "    </tr>\n",
       "    <tr>\n",
       "      <th>7</th>\n",
       "      <td>Whitman College</td>\n",
       "      <td>325</td>\n",
       "    </tr>\n",
       "  </tbody>\n",
       "</table>\n",
       "</div>"
      ],
      "text/plain": [
       "           affiliation  capacity\n",
       "0       Butler College       266\n",
       "1       Forbes College       213\n",
       "2       Mathey College       271\n",
       "3     New College East       267\n",
       "4     New College West       300\n",
       "5  Rockefeller College       237\n",
       "6           Upperclass      1830\n",
       "7      Whitman College       325"
      ]
     },
     "execution_count": 30,
     "metadata": {},
     "output_type": "execute_result"
    }
   ],
   "source": [
    "rooms_cap = rooms[['capacity', 'affiliation', 'dorm']]\n",
    "rooms_cap.groupby(by = ['affiliation','dorm']).sum().reset_index()"
   ]
  },
  {
   "cell_type": "markdown",
   "metadata": {},
   "source": [
    "<h3>Find average group size in each draw</h3>"
   ]
  },
  {
   "cell_type": "code",
   "execution_count": 51,
   "metadata": {},
   "outputs": [
    {
     "data": {
      "text/html": [
       "<div>\n",
       "<style scoped>\n",
       "    .dataframe tbody tr th:only-of-type {\n",
       "        vertical-align: middle;\n",
       "    }\n",
       "\n",
       "    .dataframe tbody tr th {\n",
       "        vertical-align: top;\n",
       "    }\n",
       "\n",
       "    .dataframe thead th {\n",
       "        text-align: right;\n",
       "    }\n",
       "</style>\n",
       "<table border=\"1\" class=\"dataframe\">\n",
       "  <thead>\n",
       "    <tr style=\"text-align: right;\">\n",
       "      <th></th>\n",
       "      <th>draw</th>\n",
       "      <th>index</th>\n",
       "      <th>group_size</th>\n",
       "    </tr>\n",
       "  </thead>\n",
       "  <tbody>\n",
       "    <tr>\n",
       "      <th>0</th>\n",
       "      <td>butler</td>\n",
       "      <td>325.5</td>\n",
       "      <td>2.335890</td>\n",
       "    </tr>\n",
       "    <tr>\n",
       "      <th>1</th>\n",
       "      <td>forbes</td>\n",
       "      <td>150.0</td>\n",
       "      <td>2.066445</td>\n",
       "    </tr>\n",
       "    <tr>\n",
       "      <th>2</th>\n",
       "      <td>ind</td>\n",
       "      <td>83.5</td>\n",
       "      <td>2.029762</td>\n",
       "    </tr>\n",
       "    <tr>\n",
       "      <th>3</th>\n",
       "      <td>mathey</td>\n",
       "      <td>235.5</td>\n",
       "      <td>2.387712</td>\n",
       "    </tr>\n",
       "    <tr>\n",
       "      <th>4</th>\n",
       "      <td>nce</td>\n",
       "      <td>302.0</td>\n",
       "      <td>2.358678</td>\n",
       "    </tr>\n",
       "    <tr>\n",
       "      <th>5</th>\n",
       "      <td>ncw</td>\n",
       "      <td>327.0</td>\n",
       "      <td>2.363359</td>\n",
       "    </tr>\n",
       "    <tr>\n",
       "      <th>6</th>\n",
       "      <td>rocky</td>\n",
       "      <td>232.5</td>\n",
       "      <td>2.358369</td>\n",
       "    </tr>\n",
       "    <tr>\n",
       "      <th>7</th>\n",
       "      <td>spellman</td>\n",
       "      <td>25.0</td>\n",
       "      <td>4.235294</td>\n",
       "    </tr>\n",
       "    <tr>\n",
       "      <th>8</th>\n",
       "      <td>upperclass</td>\n",
       "      <td>392.0</td>\n",
       "      <td>2.670064</td>\n",
       "    </tr>\n",
       "    <tr>\n",
       "      <th>9</th>\n",
       "      <td>whitman</td>\n",
       "      <td>319.5</td>\n",
       "      <td>2.368750</td>\n",
       "    </tr>\n",
       "  </tbody>\n",
       "</table>\n",
       "</div>"
      ],
      "text/plain": [
       "         draw  index  group_size\n",
       "0      butler  325.5    2.335890\n",
       "1      forbes  150.0    2.066445\n",
       "2         ind   83.5    2.029762\n",
       "3      mathey  235.5    2.387712\n",
       "4         nce  302.0    2.358678\n",
       "5         ncw  327.0    2.363359\n",
       "6       rocky  232.5    2.358369\n",
       "7    spellman   25.0    4.235294\n",
       "8  upperclass  392.0    2.670064\n",
       "9     whitman  319.5    2.368750"
      ]
     },
     "execution_count": 51,
     "metadata": {},
     "output_type": "execute_result"
    }
   ],
   "source": [
    "summed = []\n",
    "for draw in dfs:\n",
    "    summed_draw = draw.copy()\n",
    "    summed_draw.columns = ['puid', 'year', 'last_name', 'first_name', 'time', 'draw']\n",
    "    summed_draw['group_size'] = 1\n",
    "    summed_draw = summed_draw[['time', 'draw', 'group_size']]\n",
    "    summed_draw = summed_draw.groupby(by = ['time', 'draw']).sum().reset_index()\n",
    "    summed_draw = summed_draw[['draw', 'group_size']]\n",
    "    summed.append(summed_draw)\n",
    "\n",
    "all_draws_group_size = pd.concat(summed).reset_index()\n",
    "all_draws_group_size.to_csv(\"all_draws_group_size.csv\")\n",
    "all_draws_group_size.groupby(by = \"draw\").mean().reset_index()\n"
   ]
  },
  {
   "cell_type": "code",
   "execution_count": 54,
   "metadata": {},
   "outputs": [
    {
     "data": {
      "text/plain": [
       "group_size\n",
       "1    690\n",
       "2    515\n",
       "3    303\n",
       "4    479\n",
       "5    146\n",
       "6    151\n",
       "7     83\n",
       "8     99\n",
       "Name: index, dtype: int64"
      ]
     },
     "execution_count": 54,
     "metadata": {},
     "output_type": "execute_result"
    }
   ],
   "source": [
    "all_draws_group_size.groupby('group_size')['index'].nunique()"
   ]
  },
  {
   "cell_type": "markdown",
   "metadata": {},
   "source": [
    "<h3>Find average number of draws each student participated in</h3>"
   ]
  },
  {
   "cell_type": "code",
   "execution_count": null,
   "metadata": {},
   "outputs": [],
   "source": [
    "number_of_draws = df[['puid', 'year', 'draw']]\n",
    "number_of_draws['count'] = 1\n",
    "number_of_draws_agg = number_of_draws.groupby(by = ['puid', 'year']).sum().reset_index()\n",
    "number_of_draws_agg.groupby(by = ['year']).mean()\n"
   ]
  },
  {
   "cell_type": "code",
   "execution_count": 55,
   "metadata": {},
   "outputs": [
    {
     "data": {
      "text/plain": [
       "1036"
      ]
     },
     "execution_count": 55,
     "metadata": {},
     "output_type": "execute_result"
    }
   ],
   "source": [
    "number_of_draws_agg_2023 = number_of_draws_agg[number_of_draws_agg['year'] == 2023]\n",
    "number_of_draws_agg_2023.groupby('dummy')['puid'].nunique().to_csv(\"2023_num_draws.csv\")\n",
    "number_of_draws_agg_2023.groupby('dummy')['puid'].nunique()\n",
    "\n",
    "sum(number_of_draws_agg_2023.groupby('dummy')['puid'].nunique())\n",
    "# sns.histplot(data=number_of_draws_agg_2023, x=\"dummy\")"
   ]
  },
  {
   "cell_type": "markdown",
   "metadata": {},
   "source": [
    "<h3>Is there a relationship between draw times across multiple draws</h3>"
   ]
  },
  {
   "cell_type": "code",
   "execution_count": 36,
   "metadata": {},
   "outputs": [
    {
     "name": "stderr",
     "output_type": "stream",
     "text": [
      "/Users/anikamaskara/anaconda3/lib/python3.7/site-packages/ipykernel_launcher.py:2: SettingWithCopyWarning: \n",
      "A value is trying to be set on a copy of a slice from a DataFrame.\n",
      "Try using .loc[row_indexer,col_indexer] = value instead\n",
      "\n",
      "See the caveats in the documentation: https://pandas.pydata.org/pandas-docs/stable/user_guide/indexing.html#returning-a-view-versus-a-copy\n",
      "  \n",
      "/Users/anikamaskara/anaconda3/lib/python3.7/site-packages/ipykernel_launcher.py:6: SettingWithCopyWarning: \n",
      "A value is trying to be set on a copy of a slice from a DataFrame.\n",
      "Try using .loc[row_indexer,col_indexer] = value instead\n",
      "\n",
      "See the caveats in the documentation: https://pandas.pydata.org/pandas-docs/stable/user_guide/indexing.html#returning-a-view-versus-a-copy\n",
      "  \n"
     ]
    },
    {
     "data": {
      "text/html": [
       "<div>\n",
       "<style scoped>\n",
       "    .dataframe tbody tr th:only-of-type {\n",
       "        vertical-align: middle;\n",
       "    }\n",
       "\n",
       "    .dataframe tbody tr th {\n",
       "        vertical-align: top;\n",
       "    }\n",
       "\n",
       "    .dataframe thead th {\n",
       "        text-align: right;\n",
       "    }\n",
       "</style>\n",
       "<table border=\"1\" class=\"dataframe\">\n",
       "  <thead>\n",
       "    <tr style=\"text-align: right;\">\n",
       "      <th></th>\n",
       "      <th>perc_x</th>\n",
       "      <th>perc_y</th>\n",
       "    </tr>\n",
       "  </thead>\n",
       "  <tbody>\n",
       "    <tr>\n",
       "      <th>perc_x</th>\n",
       "      <td>1.000000</td>\n",
       "      <td>0.519318</td>\n",
       "    </tr>\n",
       "    <tr>\n",
       "      <th>perc_y</th>\n",
       "      <td>0.519318</td>\n",
       "      <td>1.000000</td>\n",
       "    </tr>\n",
       "  </tbody>\n",
       "</table>\n",
       "</div>"
      ],
      "text/plain": [
       "          perc_x    perc_y\n",
       "perc_x  1.000000  0.519318\n",
       "perc_y  0.519318  1.000000"
      ]
     },
     "execution_count": 36,
     "metadata": {},
     "output_type": "execute_result"
    },
    {
     "data": {
      "image/png": "[encoded data removed]",
      "text/plain": [
       "<Figure size 921.6x633.6 with 1 Axes>"
      ]
     },
     "metadata": {
      "needs_background": "light"
     },
     "output_type": "display_data"
    }
   ],
   "source": [
    "nce_perc = df[df['draw'] == 'ind']\n",
    "nce_perc['perc'] = nce_perc['time'].rank(pct = True)\n",
    "nce_perc\n",
    "\n",
    "upper_perc = df[df['draw'] == 'upperclass']\n",
    "upper_perc['perc'] = upper_perc['time'].rank(pct = True)\n",
    "upper_perc\n",
    "\n",
    "joined = pd.merge(nce_perc,upper_perc,on='puid')\n",
    "p = sns.scatterplot(data = joined, x = \"perc_x\", y = \"perc_y\", hue = \"year_x\")\n",
    "p.set_xlabel(\"Rank in Independent Draw\", fontsize = 20)\n",
    "p.set_ylabel(\"Rank in Upperclass Draw\", fontsize = 20)\n",
    "\n",
    "test = joined[['perc_x', 'perc_y']]\n",
    "test.corr()\n",
    "\n"
   ]
  },
  {
   "cell_type": "markdown",
   "metadata": {},
   "source": [
    "<h3>Is there a relationship between draw times this year and last year</h3>"
   ]
  },
  {
   "cell_type": "code",
   "execution_count": null,
   "metadata": {},
   "outputs": [],
   "source": [
    "upperclass19 = df[df['draw'] == 'upperclass']\n",
    "upperclass18 =  df[df['draw'] == 'ind']\n",
    "indep19 =  df[df['draw'] == 'nce']\n",
    "\n",
    "# We order groups.\n",
    "upper19_groups_ordered = upperclass19[\"time\"].unique()\n",
    "upper18_groups_ordered = upperclass18[\"time\"].unique()\n",
    "indep19_groups_ordered = indep19[\"time\"].unique()\n",
    "\n",
    "# The score is the percentile rank (between 0-1) of all draw groups. Lower is better.\n",
    "upperclass19[\"Score\"] = upperclass19[\"time\"].apply(lambda x: np.where(upper19_groups_ordered == x)[0][0]) + 1\n",
    "upperclass19[\"Score\"] = upperclass19[\"Score\"] / len(upper19_groups_ordered)\n",
    "\n",
    "upperclass18[\"Score\"] = upperclass18[\"time\"].apply(lambda x: np.where(upper18_groups_ordered == x)[0][0]) + 1\n",
    "upperclass18[\"Score\"] = upperclass18[\"Score\"] / len(upper18_groups_ordered)\n",
    "\n",
    "indep19[\"Score\"] = indep19[\"time\"].apply(lambda x: np.where(indep19_groups_ordered == x)[0][0]) + 1\n",
    "indep19[\"Score\"] = indep19[\"Score\"] / len(indep19_groups_ordered)"
   ]
  },
  {
   "cell_type": "code",
   "execution_count": 11,
   "metadata": {},
   "outputs": [],
   "source": [
    "u19_groups = pd.DataFrame(upper19_groups_ordered, columns = [\"time\"])\n",
    "u18_groups = pd.DataFrame(upper18_groups_ordered, columns = [\"time\"])\n",
    "i19_groups = pd.DataFrame(indep19_groups_ordered, columns = [\"time\"])\n",
    "\n",
    "# Calculate number of students and each group, and get their score.\n",
    "u19_groups[\"n_Students\"] = u19_groups[\"time\"].apply(lambda x: np.sum(upperclass19[\"time\"] == x))\n",
    "u19_groups[\"Score\"] = u19_groups.index / len(u19_groups)\n",
    "\n",
    "u18_groups[\"n_Students\"] = u18_groups[\"time\"].apply(lambda x: np.sum(upperclass18[\"time\"] == x))\n",
    "u18_groups[\"Score\"] = u18_groups.index / len(u18_groups)\n",
    "\n",
    "i19_groups[\"n_Students\"] = i19_groups[\"time\"].apply(lambda x: np.sum(indep19[\"time\"] == x))\n",
    "i19_groups[\"Score\"] = i19_groups.index / len(u18_groups)\n",
    "\n",
    "# Calculate number of seniors and juniors.\n",
    "u19_groups[\"n_Seniors\"] = u19_groups[\"time\"].apply(lambda x: np.sum(upperclass19[upperclass19[\"year\"] == 2023][\"time\"] == x))\n",
    "u19_groups[\"n_Juniors\"] = u19_groups[\"time\"].apply(lambda x: np.sum(upperclass19[upperclass19[\"year\"] == 2024][\"time\"] == x))\n",
    "\n",
    "u18_groups[\"n_Seniors\"] = u18_groups[\"time\"].apply(lambda x: np.sum(upperclass18[upperclass18[\"year\"] == 2023][\"time\"] == x))\n",
    "u18_groups[\"n_Juniors\"] = u18_groups[\"time\"].apply(lambda x: np.sum(upperclass18[upperclass18[\"year\"] == 2024][\"time\"] == x))\n",
    "\n",
    "i19_groups[\"n_Seniors\"] = i19_groups[\"time\"].apply(lambda x: np.sum(indep19[indep19[\"year\"] == 2023][\"time\"] == x))\n",
    "i19_groups[\"n_Juniors\"] = i19_groups[\"time\"].apply(lambda x: np.sum(indep19[indep19[\"year\"] == 2024][\"time\"] == x))"
   ]
  },
  {
   "cell_type": "code",
   "execution_count": 12,
   "metadata": {},
   "outputs": [],
   "source": [
    "u19_groups_seniorsonly = u19_groups[u19_groups[\"n_Juniors\"] == 0]\n",
    "u18_groups_seniorsonly = u18_groups[u18_groups[\"n_Juniors\"] == 0]\n",
    "i19_groups_seniorsonly = i19_groups[i19_groups[\"n_Juniors\"] == 0]\n",
    "\n",
    "u19_groups_juniorsonly = u19_groups[u19_groups[\"n_Seniors\"] == 0]\n",
    "u18_groups_juniorsonly = u18_groups[u18_groups[\"n_Seniors\"] == 0]\n",
    "i19_groups_juniorsonly = i19_groups[i19_groups[\"n_Seniors\"] == 0]"
   ]
  },
  {
   "cell_type": "code",
   "execution_count": 14,
   "metadata": {},
   "outputs": [],
   "source": [
    "# Merge Upperclass draws from 2018-2019 and 2019-2020 based on students in both groups\n",
    "upper_18_19 = upperclass18.merge(upperclass19, on='puid', how='inner')"
   ]
  },
  {
   "cell_type": "code",
   "execution_count": null,
   "metadata": {},
   "outputs": [],
   "source": [
    "import matplotlib.pyplot as plt\n",
    "\n",
    "plt.figure(figsize = (20, 12))\n",
    "plt.style.use('seaborn-poster')\n",
    "plt.scatter(upper_18_19[\"Score_x\"], upper_18_19[\"Score_y\"], c = upper_18_19[\"year_x\"] )\n",
    "plt.title(\"Students in both 2018-2019/2019-2020 Upperclass Draw\")\n",
    "plt.xlabel(\"Position in 2018-2019 (lower is better)\")\n",
    "plt.ylabel(\"Position in 2019-2020 (lower is better)\")\n",
    "plt.show()"
   ]
  }
 ],
 "metadata": {
  "interpreter": {
   "hash": "ec16ebb57e1ba0ed8204537fadc9110dd5117cdc5aacdeed4f2a04b068f65e64"
  },
  "kernelspec": {
   "display_name": "Python 3.7.6 ('base')",
   "language": "python",
   "name": "python3"
  },
  "language_info": {
   "codemirror_mode": {
    "name": "ipython",
    "version": 3
   },
   "file_extension": ".py",
   "mimetype": "text/x-python",
   "name": "python",
   "nbconvert_exporter": "python",
   "pygments_lexer": "ipython3",
   "version": "3.7.6"
  },
  "orig_nbformat": 4
 },
 "nbformat": 4,
 "nbformat_minor": 2
}
